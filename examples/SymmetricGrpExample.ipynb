{
 "cells": [
  {
   "cell_type": "code",
   "execution_count": 1,
   "id": "46be8bd8",
   "metadata": {},
   "outputs": [],
   "source": [
    "import torch\n",
    "import torch.nn as nn\n",
    "import torch.optim as optim\n",
    "import numpy as np\n",
    "from torch.utils.data import TensorDataset, DataLoader\n",
    "\n",
    "import sys\n",
    "sys.path.append('../')\n",
    "\n",
    "import nn.traintestNNs as traintestNNs\n",
    "import nn.symmequiv as symmequiv\n",
    "from nn.lib import symmpartitions"
   ]
  },
  {
   "cell_type": "code",
   "execution_count": 2,
   "id": "cf0f5470",
   "metadata": {},
   "outputs": [
    {
     "data": {
      "text/plain": [
       "<module 'nn.lib.symmpartitions' from '../nn/lib/symmpartitions.py'>"
      ]
     },
     "execution_count": 2,
     "metadata": {},
     "output_type": "execute_result"
    }
   ],
   "source": [
    "import importlib\n",
    "importlib.reload(symmequiv)\n",
    "importlib.reload(symmpartitions)"
   ]
  },
  {
   "cell_type": "code",
   "execution_count": 3,
   "id": "f6d3f9e5",
   "metadata": {},
   "outputs": [],
   "source": [
    "#device = 'cuda' if torch.cuda.is_available() else 'mps' if torch.backends.mps.is_available() else 'cpu'"
   ]
  },
  {
   "cell_type": "code",
   "execution_count": 4,
   "id": "998ad997",
   "metadata": {},
   "outputs": [],
   "source": [
    "device = 'cpu'"
   ]
  },
  {
   "cell_type": "code",
   "execution_count": 5,
   "id": "6cd82713",
   "metadata": {},
   "outputs": [
    {
     "name": "stdout",
     "output_type": "stream",
     "text": [
      "cpu\n"
     ]
    }
   ],
   "source": [
    "print(device)"
   ]
  },
  {
   "cell_type": "code",
   "execution_count": 6,
   "id": "b5388cff",
   "metadata": {},
   "outputs": [],
   "source": [
    "symm_model = symmequiv.SymmetricGrpEquivLinear(dim_n = 5, order_k = 3, order_l = 3).to(device)"
   ]
  },
  {
   "cell_type": "code",
   "execution_count": 7,
   "id": "7479d784",
   "metadata": {},
   "outputs": [
    {
     "data": {
      "text/plain": [
       "202"
      ]
     },
     "execution_count": 7,
     "metadata": {},
     "output_type": "execute_result"
    }
   ],
   "source": [
    "symm_model.num_weights"
   ]
  },
  {
   "cell_type": "code",
   "execution_count": 8,
   "id": "fdcf49e3",
   "metadata": {},
   "outputs": [
    {
     "data": {
      "text/plain": [
       "tensor([[1., 0., 0.,  ..., 0., 0., 0.],\n",
       "        [0., 0., 0.,  ..., 0., 0., 0.],\n",
       "        [0., 0., 0.,  ..., 0., 0., 0.],\n",
       "        ...,\n",
       "        [0., 0., 0.,  ..., 0., 0., 0.],\n",
       "        [0., 0., 0.,  ..., 0., 0., 0.],\n",
       "        [0., 0., 0.,  ..., 0., 0., 1.]])"
      ]
     },
     "execution_count": 8,
     "metadata": {},
     "output_type": "execute_result"
    }
   ],
   "source": [
    "symm_model.basis_set_matrices[0]"
   ]
  },
  {
   "cell_type": "code",
   "execution_count": 9,
   "id": "8aac8adc",
   "metadata": {},
   "outputs": [],
   "source": [
    "class SymmetricGrpEquivNN(nn.Module):\n",
    "  def __init__(self, dim_n):\n",
    "    super().__init__()\n",
    "    self.n = dim_n\n",
    "    self.layer1 = nn.Sequential(\n",
    "        symmequiv.SymmetricGrpEquivLinear(dim_n = self.n, order_k = 3, order_l = 2).to(device),\n",
    "        nn.ReLU(),\n",
    "        symmequiv.SymmetricGrpEquivLinear(dim_n = self.n, order_k = 2, order_l = 2).to(device),\n",
    "        nn.ReLU(),\n",
    "        symmequiv.SymmetricGrpEquivLinear(dim_n = self.n, order_k = 2, order_l = 0).to(device)\n",
    "    )\n",
    "\n",
    "  def forward(self, x):\n",
    "    x = self.layer1(x)\n",
    "    return x"
   ]
  },
  {
   "cell_type": "code",
   "execution_count": 10,
   "id": "ae73d2c2",
   "metadata": {},
   "outputs": [],
   "source": [
    "symm = SymmetricGrpEquivNN(dim_n = 9).to(device)"
   ]
  },
  {
   "cell_type": "code",
   "execution_count": 11,
   "id": "c5403ace",
   "metadata": {},
   "outputs": [
    {
     "data": {
      "text/plain": [
       "69"
      ]
     },
     "execution_count": 11,
     "metadata": {},
     "output_type": "execute_result"
    }
   ],
   "source": [
    "len(list(symm.parameters())) - 3"
   ]
  },
  {
   "cell_type": "code",
   "execution_count": null,
   "id": "debffc28",
   "metadata": {},
   "outputs": [],
   "source": []
  }
 ],
 "metadata": {
  "kernelspec": {
   "display_name": "Python 3 (ipykernel)",
   "language": "python",
   "name": "python3"
  },
  "language_info": {
   "codemirror_mode": {
    "name": "ipython",
    "version": 3
   },
   "file_extension": ".py",
   "mimetype": "text/x-python",
   "name": "python",
   "nbconvert_exporter": "python",
   "pygments_lexer": "ipython3",
   "version": "3.7.0"
  }
 },
 "nbformat": 4,
 "nbformat_minor": 5
}
