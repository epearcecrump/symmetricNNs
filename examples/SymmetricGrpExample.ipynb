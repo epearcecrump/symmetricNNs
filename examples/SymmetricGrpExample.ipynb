{
 "cells": [
  {
   "cell_type": "markdown",
   "id": "b14f9b9e-e323-488e-b17d-a0bf308dc51d",
   "metadata": {},
   "source": [
    "# Example Usage for Symmetric Group Equivariant Linear Layers"
   ]
  },
  {
   "cell_type": "code",
   "execution_count": 1,
   "id": "536dbdc3-ac61-453e-8581-fd5aad0248fd",
   "metadata": {},
   "outputs": [],
   "source": [
    "import torch\n",
    "import torch.nn as nn\n",
    "import torch.optim as optim\n",
    "import numpy as np\n",
    "from torch.utils.data import TensorDataset, DataLoader\n",
    "\n",
    "import sys\n",
    "sys.path.append('../')\n",
    "\n",
    "import nn.traintest as traintest\n",
    "import nn.symmequiv as symmequiv\n",
    "from nn.lib import symmpartitions"
   ]
  },
  {
   "cell_type": "code",
   "execution_count": 2,
   "id": "cf0f5470",
   "metadata": {},
   "outputs": [
    {
     "data": {
      "text/plain": [
       "<module 'nn.lib.symmpartitions' from '/Users/Edward/Documents/symmetricNNs/examples/../nn/lib/symmpartitions.py'>"
      ]
     },
     "execution_count": 2,
     "metadata": {},
     "output_type": "execute_result"
    }
   ],
   "source": [
    "import importlib\n",
    "importlib.reload(symmequiv)\n",
    "importlib.reload(symmpartitions)"
   ]
  },
  {
   "cell_type": "code",
   "execution_count": 3,
   "id": "f6d3f9e5",
   "metadata": {},
   "outputs": [],
   "source": [
    "device = 'cuda' if torch.cuda.is_available() else 'mps' if torch.backends.mps.is_available() else 'cpu'"
   ]
  },
  {
   "cell_type": "code",
   "execution_count": 4,
   "id": "6cd82713",
   "metadata": {},
   "outputs": [
    {
     "name": "stdout",
     "output_type": "stream",
     "text": [
      "mps\n"
     ]
    }
   ],
   "source": [
    "print(device)"
   ]
  },
  {
   "cell_type": "markdown",
   "id": "a77acdf7-c9b6-4cc2-bc69-d0212d4b4e06",
   "metadata": {},
   "source": [
    "### Comparison between Diagram and Orbit Bases"
   ]
  },
  {
   "cell_type": "markdown",
   "id": "07850db1-462b-4772-8e81-01bdd01cd468",
   "metadata": {},
   "source": [
    "#### Diagram Basis"
   ]
  },
  {
   "cell_type": "code",
   "execution_count": 5,
   "id": "b5388cff",
   "metadata": {},
   "outputs": [],
   "source": [
    "layer_5_1_1_diag = symmequiv.SymmetricGrpEquivLinear(dim_n = 5, order_k = 1, order_l = 1).to(device)"
   ]
  },
  {
   "cell_type": "code",
   "execution_count": 6,
   "id": "7479d784",
   "metadata": {},
   "outputs": [
    {
     "data": {
      "text/plain": [
       "2"
      ]
     },
     "execution_count": 6,
     "metadata": {},
     "output_type": "execute_result"
    }
   ],
   "source": [
    "layer_5_1_1_diag.num_weights"
   ]
  },
  {
   "cell_type": "code",
   "execution_count": 7,
   "id": "fdcf49e3",
   "metadata": {},
   "outputs": [
    {
     "name": "stdout",
     "output_type": "stream",
     "text": [
      "tensor([[1., 0., 0., 0., 0.],\n",
      "        [0., 1., 0., 0., 0.],\n",
      "        [0., 0., 1., 0., 0.],\n",
      "        [0., 0., 0., 1., 0.],\n",
      "        [0., 0., 0., 0., 1.]])\n",
      "tensor([[1., 1., 1., 1., 1.],\n",
      "        [1., 1., 1., 1., 1.],\n",
      "        [1., 1., 1., 1., 1.],\n",
      "        [1., 1., 1., 1., 1.],\n",
      "        [1., 1., 1., 1., 1.]])\n"
     ]
    }
   ],
   "source": [
    "for basis_matrix in layer_5_1_1_diag.basis_set_matrices:\n",
    "    print(basis_matrix)"
   ]
  },
  {
   "cell_type": "markdown",
   "id": "664840b4-80ee-49e4-a519-6200b8f9409b",
   "metadata": {},
   "source": [
    "#### Orbit Basis"
   ]
  },
  {
   "cell_type": "code",
   "execution_count": 8,
   "id": "e2f96405-3e03-4c7e-9f38-a3aba6ca947a",
   "metadata": {},
   "outputs": [],
   "source": [
    "layer_5_1_1_orbit = symmequiv.SymmetricGrpEquivLinear(dim_n = 5, order_k = 1, order_l = 1, diag = False).to(device)"
   ]
  },
  {
   "cell_type": "code",
   "execution_count": 9,
   "id": "a6790493-785c-4071-ac7d-e752384a2d68",
   "metadata": {},
   "outputs": [
    {
     "data": {
      "text/plain": [
       "2"
      ]
     },
     "execution_count": 9,
     "metadata": {},
     "output_type": "execute_result"
    }
   ],
   "source": [
    "layer_5_1_1_orbit.num_weights"
   ]
  },
  {
   "cell_type": "code",
   "execution_count": 10,
   "id": "2fbf2b74-478b-4ff8-9c3c-65b167e61eeb",
   "metadata": {},
   "outputs": [
    {
     "name": "stdout",
     "output_type": "stream",
     "text": [
      "tensor([[1., 0., 0., 0., 0.],\n",
      "        [0., 1., 0., 0., 0.],\n",
      "        [0., 0., 1., 0., 0.],\n",
      "        [0., 0., 0., 1., 0.],\n",
      "        [0., 0., 0., 0., 1.]])\n",
      "tensor([[0., 1., 1., 1., 1.],\n",
      "        [1., 0., 1., 1., 1.],\n",
      "        [1., 1., 0., 1., 1.],\n",
      "        [1., 1., 1., 0., 1.],\n",
      "        [1., 1., 1., 1., 0.]])\n"
     ]
    }
   ],
   "source": [
    "for basis_matrix in layer_5_1_1_orbit.basis_set_matrices:\n",
    "    print(basis_matrix)"
   ]
  },
  {
   "cell_type": "markdown",
   "id": "7f6466a1-0003-436e-8e72-52274b674ce7",
   "metadata": {},
   "source": [
    "### Example Class using SymmetricGrpEquivLinear layers"
   ]
  },
  {
   "cell_type": "code",
   "execution_count": 11,
   "id": "8aac8adc",
   "metadata": {},
   "outputs": [],
   "source": [
    "class SymmetricGrpEquivNN(nn.Module):\n",
    "  def __init__(self, dim_n):\n",
    "    super().__init__()\n",
    "    self.n = dim_n\n",
    "    self.layer1 = nn.Sequential(\n",
    "        symmequiv.SymmetricGrpEquivLinear(dim_n = self.n, order_k = 3, order_l = 2).to(device),\n",
    "        nn.ReLU(),\n",
    "        symmequiv.SymmetricGrpEquivLinear(dim_n = self.n, order_k = 2, order_l = 2).to(device),\n",
    "        nn.ReLU(),\n",
    "        symmequiv.SymmetricGrpEquivLinear(dim_n = self.n, order_k = 2, order_l = 0).to(device)\n",
    "    )\n",
    "\n",
    "  def forward(self, x):\n",
    "    x = self.layer1(x)\n",
    "    return x"
   ]
  },
  {
   "cell_type": "code",
   "execution_count": 12,
   "id": "ae73d2c2",
   "metadata": {},
   "outputs": [],
   "source": [
    "model = SymmetricGrpEquivNN(dim_n = 5).to(device)"
   ]
  }
 ],
 "metadata": {
  "kernelspec": {
   "display_name": "Python 3 (ipykernel)",
   "language": "python",
   "name": "python3"
  },
  "language_info": {
   "codemirror_mode": {
    "name": "ipython",
    "version": 3
   },
   "file_extension": ".py",
   "mimetype": "text/x-python",
   "name": "python",
   "nbconvert_exporter": "python",
   "pygments_lexer": "ipython3",
   "version": "3.11.2"
  }
 },
 "nbformat": 4,
 "nbformat_minor": 5
}
